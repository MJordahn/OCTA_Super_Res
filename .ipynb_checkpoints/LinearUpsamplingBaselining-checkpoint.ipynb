{
 "cells": [
  {
   "cell_type": "code",
   "execution_count": 1,
   "metadata": {
    "code_folding": [
     0
    ]
   },
   "outputs": [],
   "source": [
    "# Helper functions\n",
    "import numpy as np\n",
    "import math\n",
    "import torch\n",
    "from DataLoader import MabulaDataset\n",
    "from torch.utils.data import DataLoader\n",
    "from albumentations.pytorch import ToTensor\n",
    "from albumentations import RandomCrop\n",
    "from Utility import calculate_scores\n",
    "import skimage\n",
    "from skimage.metrics import structural_similarity\n",
    "from matplotlib import pyplot as plt\n",
    "import skimage\n",
    "import cv2\n",
    "\n",
    "# Creates transformation matrix\n",
    "def transformationMatrix(dim, stride, batch_size, torch_=True, GRID=False):\n",
    "    t = np.zeros([batch_size, dim, dim], dtype=float)\n",
    "    for i in range(dim):\n",
    "        if i % stride == 0:\n",
    "            t[:,i,i] = 1\n",
    "        else:\n",
    "            t[:,i,i] = 0\n",
    "    if torch_:\n",
    "        t = torch.tensor(t, dtype=float, device=torch.device(\"cuda:0\")).float()\n",
    "    return t\n",
    "\n",
    "def linear_upsampling(patch):\n",
    "    #copy_im = torch.tensor(patch).float()\n",
    "    patch=patch.permute(0,1,3,2)\n",
    "    patch_top = patch[0,0,1:,:]\n",
    "    for j, row in enumerate(patch_top):\n",
    "        interpol_start = 0\n",
    "        interpol_end = -1\n",
    "        previous_pixel = 0\n",
    "        for i, pixel in enumerate(row):\n",
    "            if pixel != 0 and i != 0:\n",
    "                if row[interpol_start] != 0:\n",
    "                    interpol_end = i\n",
    "                    new_seg = torch.tensor(np.linspace(patch[:,:,:,interpol_start], patch[:,:,:,interpol_end], interpol_end+1-interpol_start).astype(float))\n",
    "                    new_seg = new_seg.permute(1,2,3,0)\n",
    "                    patch[:,:,:,interpol_start:interpol_end+1] = new_seg\n",
    "                interpol_start = i\n",
    "            if i == len(row)-1 and pixel == 0:\n",
    "                new_seg = torch.tensor([patch[:,:,:,interpol_start].detach().numpy()]*(i+1-interpol_start))\n",
    "                new_seg = new_seg.permute(1,2,3,0)\n",
    "                patch[:,:,:,interpol_start:i+1] = new_seg\n",
    "        break\n",
    "    return patch.permute(0,1,3,2)"
   ]
  },
  {
   "cell_type": "code",
   "execution_count": 2,
   "metadata": {},
   "outputs": [],
   "source": [
    "transforms=[ToTensor()]\n",
    "train_data = MabulaDataset(file_path=\"/Data/OCTA/Train\", transforms=transforms)\n",
    "test_data = MabulaDataset(file_path=\"/Data/OCTA/Test\", transforms=transforms)\n",
    "batch_size = 1\n",
    "test_loader = DataLoader(dataset=test_data, batch_size=1, shuffle=True, num_workers=0)"
   ]
  },
  {
   "cell_type": "code",
   "execution_count": 3,
   "metadata": {},
   "outputs": [
    {
     "name": "stderr",
     "output_type": "stream",
     "text": [
      "C:\\Users\\aabil\\Anaconda3\\lib\\site-packages\\ipykernel_launcher.py:10: UserWarning: To copy construct from a tensor, it is recommended to use sourceTensor.clone().detach() or sourceTensor.clone().detach().requires_grad_(True), rather than torch.tensor(sourceTensor).\n",
      "  # Remove the CWD from sys.path while we load stuff.\n"
     ]
    },
    {
     "name": "stdout",
     "output_type": "stream",
     "text": [
      "PSNR for stride 2 was: 23.04699013149269\n",
      "SSIM for stride 2 was: 0.7991513633305463\n",
      "PSNR for stride 4 was: 18.541676221812796\n",
      "SSIM for stride 4 was: 0.5248949083251003\n",
      "PSNR for stride 8 was: 15.542507878470106\n",
      "SSIM for stride 8 was: 0.30092626278951295\n"
     ]
    }
   ],
   "source": [
    "scale_factors = [2, 4, 8]\n",
    "for scale_factor in scale_factors:\n",
    "    PSNR = 0\n",
    "    count = 0\n",
    "    SSIM = 0\n",
    "    for batch in test_loader:\n",
    "        t = transformationMatrix(320, stride=scale_factor, batch_size=batch_size, torch_=False)\n",
    "        t=torch.tensor(t).float()\n",
    "        downsampled_im = torch.matmul(t, batch['image'])\n",
    "        downsampled_im_copy = torch.tensor(downsampled_im)\n",
    "        upsampled_im = linear_upsampling(downsampled_im)\n",
    "        PSNR_1, SSIM_1 = calculate_scores(upsampled_im, batch['image'])\n",
    "        SSIM += SSIM_1\n",
    "        PSNR += PSNR_1\n",
    "        count += 1\n",
    "    print(\"PSNR for stride \" + str(scale_factor) + \" was: \" + str(PSNR/count))\n",
    "    print(\"SSIM for stride \" + str(scale_factor) + \" was: \" + str(SSIM/count))"
   ]
  }
 ],
 "metadata": {
  "kernelspec": {
   "display_name": "Python 3",
   "language": "python",
   "name": "python3"
  },
  "language_info": {
   "codemirror_mode": {
    "name": "ipython",
    "version": 3
   },
   "file_extension": ".py",
   "mimetype": "text/x-python",
   "name": "python",
   "nbconvert_exporter": "python",
   "pygments_lexer": "ipython3",
   "version": "3.7.3"
  }
 },
 "nbformat": 4,
 "nbformat_minor": 2
}
